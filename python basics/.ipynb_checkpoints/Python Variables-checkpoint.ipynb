{
 "cells": [
  {
   "cell_type": "markdown",
   "metadata": {},
   "source": [
    "<p style=\"text-align:center;font-size:30px;font-weight:bold;\">Python Variables</p>"
   ]
  },
  {
   "cell_type": "markdown",
   "metadata": {},
   "source": [
    "Python constitutes of various type of variables. It includes :- \n",
    "<ul>\n",
    "    <li> int </li>\n",
    "    <li> float </li>\n",
    "    <li> string </li>\n",
    "    <li> boolean </li>\n",
    "</ul>\n",
    "\n",
    "These are the primitive datatypes present in python.\n",
    "These datatypes can be further classified as per their storage capacity.<br>\n",
    "<b><u>Example:-</u></b> <i>int</i> datatype can be further divided as :-\n",
    "            <ul><li>int8</li>\n",
    "                <li>int16</li>\n",
    "                <li>int32</li>\n",
    "                <li>int64</li></ul>\n",
    "            These 8,16,32,64 denotes the storage in bytes"
   ]
  },
  {
   "cell_type": "markdown",
   "metadata": {},
   "source": [
    "In Java, C and C++ we have to declare the datatype of the variable while declaring it. But we need not have to do so in case of python. <br> <p style=\"font-weight:bold;font-size:15px;\">Lets learn some coding<p>"
   ]
  },
  {
   "cell_type": "markdown",
   "metadata": {},
   "source": [
    "<li> Declaring and initializing a variable</li>"
   ]
  },
  {
   "cell_type": "code",
   "execution_count": 2,
   "metadata": {},
   "outputs": [],
   "source": [
    "a=5\n",
    "b=\"Five\"\n",
    "c=5.5\n",
    "d=True"
   ]
  },
  {
   "cell_type": "markdown",
   "metadata": {},
   "source": [
    "**Keep in mind we won't use ';' in python for ending an expression"
   ]
  },
  {
   "cell_type": "markdown",
   "metadata": {},
   "source": [
    "If we are not declaring the datatypes of the variable then how we will be able to determine whether it is a int or float or a string. For that we pythoh got something, lets check"
   ]
  },
  {
   "cell_type": "code",
   "execution_count": 5,
   "metadata": {},
   "outputs": [
    {
     "data": {
      "text/plain": [
       "int"
      ]
     },
     "execution_count": 5,
     "metadata": {},
     "output_type": "execute_result"
    }
   ],
   "source": [
    "type(a)"
   ]
  },
  {
   "cell_type": "markdown",
   "metadata": {},
   "source": [
    "The type() function is used to get the datatype of a variable in runtime"
   ]
  },
  {
   "cell_type": "markdown",
   "metadata": {},
   "source": [
    "<li>Printing a variable</li>"
   ]
  },
  {
   "cell_type": "markdown",
   "metadata": {},
   "source": [
    "we are already familier with:- \n",
    "<ul><li><b>JAVA</b>:- System.out.print()</li>\n",
    "    <li><b>C</b>:- printf()</li>\n",
    "    <li><b>C++</b>:- cout</li></ul>"
   ]
  },
  {
   "cell_type": "code",
   "execution_count": 6,
   "metadata": {},
   "outputs": [
    {
     "name": "stdout",
     "output_type": "stream",
     "text": [
      "Five\n"
     ]
    }
   ],
   "source": [
    "print(b)"
   ]
  },
  {
   "cell_type": "markdown",
   "metadata": {},
   "source": [
    "In python3, we have got <i>print()</i> function. "
   ]
  },
  {
   "cell_type": "markdown",
   "metadata": {},
   "source": [
    "So till now we have learnt how to declare,initialize and print a variable. A small task for you.<br><br>\n",
    "<div style=\"border-radius:5px;background-color:#dadae8;padding:5px;\"><legend>Problem Statement</legend>\n",
    "Initialize two variables and print them side by side</div>"
   ]
  },
  {
   "cell_type": "markdown",
   "metadata": {},
   "source": [
    "<li>Dynamic Inputs</li>"
   ]
  },
  {
   "cell_type": "markdown",
   "metadata": {},
   "source": [
    "As the header suggests we are going to take input from user in runtime"
   ]
  },
  {
   "cell_type": "code",
   "execution_count": 7,
   "metadata": {},
   "outputs": [
    {
     "name": "stdout",
     "output_type": "stream",
     "text": [
      "Enter a number12\n",
      "The number is : 12\n"
     ]
    }
   ],
   "source": [
    "number=input(\"Enter a number \")\n",
    "print(\"The number is :\",number)"
   ]
  },
  {
   "cell_type": "markdown",
   "metadata": {},
   "source": [
    "using <i>input()</i>, we will be able to take inputs from the user. The message written inside the input() method will appear while we take inputs from user."
   ]
  },
  {
   "cell_type": "markdown",
   "metadata": {},
   "source": [
    "One more thing that you must see <i>print(,)</i>. If you use ',' in the print function then you will be able to print multiple datatypes at ease. If you want to print some integer with a string without the use of ',' then the only way is to convert the integer data to string type and concatinate. <br><br> \n",
    "Lets see hot to actually cast datatypes in python. "
   ]
  },
  {
   "cell_type": "code",
   "execution_count": 14,
   "metadata": {},
   "outputs": [
    {
     "name": "stdout",
     "output_type": "stream",
     "text": [
      "My mobile number is 54125632\n"
     ]
    }
   ],
   "source": [
    "number=54125632\n",
    "print(\"My mobile number is \"+str(number))"
   ]
  },
  {
   "cell_type": "markdown",
   "metadata": {},
   "source": [
    "<p style=\"font-weight:bold;font-size:30px;text-align:center;\">----------Thank You. Have A Great Day Ahead.----------</p>"
   ]
  },
  {
   "cell_type": "code",
   "execution_count": null,
   "metadata": {},
   "outputs": [],
   "source": []
  },
  {
   "cell_type": "code",
   "execution_count": null,
   "metadata": {},
   "outputs": [],
   "source": []
  }
 ],
 "metadata": {
  "kernelspec": {
   "display_name": "Python 3",
   "language": "python",
   "name": "python3"
  },
  "language_info": {
   "codemirror_mode": {
    "name": "ipython",
    "version": 3
   },
   "file_extension": ".py",
   "mimetype": "text/x-python",
   "name": "python",
   "nbconvert_exporter": "python",
   "pygments_lexer": "ipython3",
   "version": "3.6.7"
  }
 },
 "nbformat": 4,
 "nbformat_minor": 4
}
