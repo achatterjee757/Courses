{
 "cells": [
  {
   "cell_type": "markdown",
   "metadata": {},
   "source": [
    "<p style=\"text-align:center;font-size:30px;font-weight:bold;\">LOOP</p>"
   ]
  },
  {
   "cell_type": "markdown",
   "metadata": {},
   "source": [
    "Welcome back to the course with another basic concept of all programming languages... LOOP"
   ]
  },
  {
   "cell_type": "markdown",
   "metadata": {},
   "source": [
    "<i>For the beginners, what is loop?</i><br><br>\n",
    "Suppose we want to do a particular task for 2 times. Its quite easy to write it 2 times. Suppose the same work we want to do 1000 number of times, its a bit difficult to write the code for 1000 times. Moreover we are writting redundant codes, which makes the code base very dirty and messy. <br>\n",
    "So as a resolution we got structured syntaxs, which facilitates write once use 1000 and more times.That syntax is a loop."
   ]
  },
  {
   "cell_type": "markdown",
   "metadata": {},
   "source": [
    "Its a dangerous definition to go through, but definitely it will be clear at the end of the lesson."
   ]
  },
  {
   "cell_type": "markdown",
   "metadata": {},
   "source": [
    "Great things starts from dangerous attempts. Lets dive into it."
   ]
  },
  {
   "cell_type": "markdown",
   "metadata": {},
   "source": [
    "In \"C\" language, we have 3 different types of loops:- \n",
    "<ol><li>while</li>\n",
    "    <li>do-while</li>\n",
    "    <li>for</li></ol>"
   ]
  },
  {
   "cell_type": "markdown",
   "metadata": {},
   "source": [
    "In \"Python\" we got only 2 types of loop:-\n",
    "<ol><li>while</li>\n",
    "    <li>for</li>\n",
    "</ol>"
   ]
  },
  {
   "cell_type": "markdown",
   "metadata": {},
   "source": [
    "Here we are going to learn about the basic structure of loops and the advanced part we will learn gradually during the courses."
   ]
  },
  {
   "cell_type": "markdown",
   "metadata": {},
   "source": [
    "Lets introduce a new function in python3"
   ]
  },
  {
   "cell_type": "code",
   "execution_count": 6,
   "metadata": {},
   "outputs": [
    {
     "data": {
      "text/plain": [
       "range(0, 5)"
      ]
     },
     "execution_count": 6,
     "metadata": {},
     "output_type": "execute_result"
    }
   ],
   "source": [
    "range(5)"
   ]
  },
  {
   "cell_type": "markdown",
   "metadata": {},
   "source": [
    "<div style=\"border-radius:5px;background-color:#ebf0fa;padding-top:5px;padding-left:5px;\">\n",
    "range() is a function which is capable of generating sequence of numbers as per the arguments passed to it. It is overloaded in 3 different formats. <br><br>Lets introduce them to you.\n",
    "<ul>\n",
    "    <li><b>range(ending_value): </b> This method will generate numbers from 0 to ending_value-1 and the interval will be 1.<br>\n",
    "    <b>Example:-</b> range(5)<br>\n",
    "    <b>Output:-</b> 0,1,2,3,4</li><br>\n",
    "    <li><b>range(starting_value,ending_value): </b> This method will generate numbers from starting_value to ending_value-1 and the interval will be 1.<br>\n",
    "    <b>Example:- </b>range(2,5)<br>\n",
    "    <b>Output:- </b> 2,3,4</li><br>\n",
    "    <li><b>range(starting_value,ending_value,interval_value): </b> This method will generate numbers from starting_value to ending_value-1 and the interval will be the interval_value.<br>\n",
    "    <b>Example:- </b>range(2,8,2)<br>\n",
    "    <b>Output:- </b> 2,4,6</li>\n",
    "</ul>\n",
    "</div>"
   ]
  },
  {
   "cell_type": "markdown",
   "metadata": {},
   "source": [
    "But if we write <i>range(5)</i>, we are able to see some output like <i>range(0,5)</i>, not any integer numbers.<br>\n",
    "The integer numbers can be extracted from it using the loop.<br>"
   ]
  },
  {
   "cell_type": "code",
   "execution_count": 8,
   "metadata": {},
   "outputs": [
    {
     "name": "stdout",
     "output_type": "stream",
     "text": [
      "0 1 2 3 4 "
     ]
    }
   ],
   "source": [
    "for integer_number in range(5):\n",
    "    print(integer_number,end=\" \")"
   ]
  },
  {
   "cell_type": "markdown",
   "metadata": {},
   "source": [
    "So here is the syntax for \"for\" loop in python.<br><br>\n",
    "<div style=\"border-radius:5px; background-color:#4775d1;color:white;padding:10px;\">\n",
    "Lets simplify a bit:<br><br>\n",
    "<b>for</b> (LOOP COUNTER) <b>in</b> (data/sequence) <b>:</b><br>\n",
    "&emsp;&emsp;(LOOP BODY)\n",
    " </div>\n",
    "\n",
    "Here we wont use \"{\" or \"}\" to make a block around the loop body. Rather we use \":\" end at the end of the loop header and the loop body rests indented inside the body.\n",
    "\n",
    "Basically indentation means <i>spaces</i>. In python we provide 4 spaces for indentation. We will learn  al lot about it in the further examples\n"
   ]
  },
  {
   "cell_type": "markdown",
   "metadata": {},
   "source": [
    "We are having another loop up in python:- while loop\n"
   ]
  },
  {
   "cell_type": "markdown",
   "metadata": {},
   "source": [
    "<div style=\"border-radius:5px; background-color:#4775d1;color:white;padding:10px;\">\n",
    "<b>while</b> (CONDITION) <b>:</b><br>\n",
    "&emsp;&emsp;(LOOP BODY)\n",
    " </div>"
   ]
  },
  {
   "cell_type": "markdown",
   "metadata": {},
   "source": [
    "<b>Example:</b>"
   ]
  },
  {
   "cell_type": "code",
   "execution_count": 9,
   "metadata": {},
   "outputs": [
    {
     "name": "stdout",
     "output_type": "stream",
     "text": [
      "0 1 2 3 4 "
     ]
    }
   ],
   "source": [
    "counter=0\n",
    "while counter<5:\n",
    "    print(counter,end=\" \")\n",
    "    counter +=1"
   ]
  },
  {
   "cell_type": "markdown",
   "metadata": {},
   "source": [
    "<br>"
   ]
  },
  {
   "cell_type": "markdown",
   "metadata": {},
   "source": [
    "<b>Example of nested loops</b>"
   ]
  },
  {
   "cell_type": "code",
   "execution_count": 11,
   "metadata": {},
   "outputs": [
    {
     "name": "stdout",
     "output_type": "stream",
     "text": [
      "*\n",
      "**\n",
      "***\n",
      "****\n",
      "*****\n"
     ]
    }
   ],
   "source": [
    "for i in range(5):\n",
    "    for j in range(i+1):\n",
    "        print(\"*\",end=\"\")\n",
    "    print()"
   ]
  },
  {
   "cell_type": "markdown",
   "metadata": {},
   "source": [
    "<i>Please be careful about the intendation.</i> "
   ]
  },
  {
   "cell_type": "markdown",
   "metadata": {},
   "source": [
    "<div style=\"background-color:#e6ffee;border-radius:5px;padding-top:5px;padding-left:5px;\">\n",
    "    Its time for some exercise.<br>\n",
    "    <b><u>Problem Statement</u></b><br>\n",
    "    Make the following patterns:-\n",
    "    <ol>\n",
    "        <li>54321<br>\n",
    "        5432<br>\n",
    "        543<br>\n",
    "        54<br>\n",
    "        5</li><br>\n",
    "        <li>1<br>\n",
    "        01<br>\n",
    "        101<br>\n",
    "        0101</li>\n",
    "    </ol>\n",
    "    \n",
    " </div>"
   ]
  },
  {
   "cell_type": "markdown",
   "metadata": {},
   "source": [
    "<br>"
   ]
  },
  {
   "cell_type": "markdown",
   "metadata": {},
   "source": [
    "<b>Python supports <i>else</i> in for loop.</b>"
   ]
  },
  {
   "cell_type": "markdown",
   "metadata": {},
   "source": [
    "The topic is kept for the next class. "
   ]
  },
  {
   "cell_type": "markdown",
   "metadata": {},
   "source": [
    "<p style=\"font-weight:bold;font-size:30px;text-align:center;\">----------Thank You. Have A Great Day Ahead.----------</p>"
   ]
  },
  {
   "cell_type": "code",
   "execution_count": null,
   "metadata": {},
   "outputs": [],
   "source": []
  },
  {
   "cell_type": "code",
   "execution_count": null,
   "metadata": {},
   "outputs": [],
   "source": []
  }
 ],
 "metadata": {
  "kernelspec": {
   "display_name": "Python 3",
   "language": "python",
   "name": "python3"
  },
  "language_info": {
   "codemirror_mode": {
    "name": "ipython",
    "version": 3
   },
   "file_extension": ".py",
   "mimetype": "text/x-python",
   "name": "python",
   "nbconvert_exporter": "python",
   "pygments_lexer": "ipython3",
   "version": "3.6.7"
  }
 },
 "nbformat": 4,
 "nbformat_minor": 4
}
